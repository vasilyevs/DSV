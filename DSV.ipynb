{
 "cells": [
  {
   "cell_type": "markdown",
   "metadata": {
    "id": "T7ZzWaMVe71E"
   },
   "source": [
    "# Домашнее задание \"Теория вероятности. Дискретные Случайные Величины\"."
   ]
  },
  {
   "cell_type": "code",
   "execution_count": 1,
   "metadata": {},
   "outputs": [],
   "source": [
    "import math \n",
    "import numpy as np\n",
    "import pandas as pd\n",
    "import seaborn as sns\n",
    "import matplotlib as plt\n",
    "import statistics as stat"
   ]
  },
  {
   "cell_type": "markdown",
   "metadata": {
    "id": "lanA1DNve73x"
   },
   "source": [
    "## Уровень 0:"
   ]
  },
  {
   "cell_type": "markdown",
   "metadata": {
    "id": "trLO6c0pfXRA"
   },
   "source": [
    "- Задание 1:"
   ]
  },
  {
   "cell_type": "markdown",
   "metadata": {
    "id": "1Fj_TgHpfXTP"
   },
   "source": [
    "Монетку подбрасывают 15 раз, найдите вероятность выпадения простого числа орлов."
   ]
  },
  {
   "cell_type": "markdown",
   "metadata": {},
   "source": [
    "Простые числа подходящие для нас:  \n",
    "    2, 3, 5, 7, 11, 13"
   ]
  },
  {
   "cell_type": "code",
   "execution_count": 2,
   "metadata": {},
   "outputs": [
    {
     "name": "stdout",
     "output_type": "stream",
     "text": [
      "Вероятность бросить 2 орлов из 15 бросков = 0.0032\n",
      "Вероятность бросить 3 орлов из 15 бросков = 0.0139\n",
      "Вероятность бросить 5 орлов из 15 бросков = 0.0916\n",
      "Вероятность бросить 7 орлов из 15 бросков = 0.1964\n",
      "Вероятность бросить 11 орлов из 15 бросков = 0.0417\n",
      "Вероятность бросить 13 орлов из 15 бросков = 0.0032\n"
     ]
    }
   ],
   "source": [
    "numbers = [2, 3, 5, 7, 11, 13]\n",
    "for i in numbers:\n",
    "    P = (math.factorial(15)/(math.factorial(i)*math.factorial(15-i)))*(1/2)**i*(1-1/2)**(15-i)\n",
    "    print('Вероятность бросить', i,'орлов из 15 бросков =', round(P, 4))"
   ]
  },
  {
   "cell_type": "markdown",
   "metadata": {
    "id": "uqHn2CtkfXVb"
   },
   "source": [
    "- Задание 2:"
   ]
  },
  {
   "cell_type": "markdown",
   "metadata": {
    "id": "dc5gqI8gfXXk"
   },
   "source": [
    "\n",
    "Создайте свою дискретную случайную величину с не менее, чем 10 значениями. Просемплируйте 1000 случайных значений, постройте гистограмму плотности распределения по выборке, посчитайте среднее, дисперсию и медиану."
   ]
  },
  {
   "cell_type": "code",
   "execution_count": 3,
   "metadata": {},
   "outputs": [],
   "source": [
    "#создание случайной величины и ее распределения\n",
    "discret_value = pd.DataFrame([[10, 0.047],\n",
    "                             [11, 0.052],\n",
    "                             [12, 0.0525],\n",
    "                             [13, 0.055],\n",
    "                             [14, 0.057],\n",
    "                             [15, 0.0575],\n",
    "                             [16, 0.058],\n",
    "                             [17, 0.059],\n",
    "                             [18, 0.06],\n",
    "                             [19, 0.062],\n",
    "                             [20, 0.068],\n",
    "                             [21, 0.072],\n",
    "                             [22, 0.062],\n",
    "                             [23, 0.06],\n",
    "                             [24, 0.054],\n",
    "                             [25, 0.05],\n",
    "                             [26, 0.042],\n",
    "                             [27, 0.032]],\n",
    "                             columns=['X','P'])"
   ]
  },
  {
   "cell_type": "code",
   "execution_count": 4,
   "metadata": {},
   "outputs": [
    {
     "data": {
      "text/plain": [
       "1.0"
      ]
     },
     "execution_count": 4,
     "metadata": {},
     "output_type": "execute_result"
    }
   ],
   "source": [
    "#проверка, что сумма вероятностей = 1\n",
    "discret_value.P.sum()"
   ]
  },
  {
   "cell_type": "code",
   "execution_count": 5,
   "metadata": {},
   "outputs": [],
   "source": [
    "#создание семплов\n",
    "samples = np.random.randint(10, 28, size=1000)"
   ]
  },
  {
   "cell_type": "code",
   "execution_count": 6,
   "metadata": {},
   "outputs": [
    {
     "data": {
      "text/plain": [
       "<AxesSubplot:ylabel='Count'>"
      ]
     },
     "execution_count": 6,
     "metadata": {},
     "output_type": "execute_result"
    },
    {
     "data": {
      "image/png": "[encoded data removed]",
      "text/plain": [
       "<Figure size 432x288 with 1 Axes>"
      ]
     },
     "metadata": {
      "needs_background": "light"
     },
     "output_type": "display_data"
    }
   ],
   "source": [
    "g = sns.histplot(data= samples, x = samples, discrete=True)\n",
    "g"
   ]
  },
  {
   "cell_type": "code",
   "execution_count": 7,
   "metadata": {},
   "outputs": [
    {
     "name": "stdout",
     "output_type": "stream",
     "text": [
      "Среднее 18.308\n",
      "Медиана 18.0\n",
      "Дисперсия 25.763136\n"
     ]
    }
   ],
   "source": [
    "print('Среднее', samples.mean())\n",
    "print('Медиана', stat.median(samples))\n",
    "print('Дисперсия', np.var(samples))"
   ]
  },
  {
   "cell_type": "markdown",
   "metadata": {},
   "source": [
    "## Не понял как связана моя случайная величина и семплы, которые генерили отдельно и ни как не связывали одно с другим. \n",
    "## Не совсем понятно как интерпритировать дисперсию и почему она такая большая. "
   ]
  },
  {
   "cell_type": "markdown",
   "metadata": {
    "id": "_6YnMFxzfS86"
   },
   "source": [
    "## Уровень 1:"
   ]
  },
  {
   "cell_type": "markdown",
   "metadata": {
    "id": "kCHPejMofn6b"
   },
   "source": [
    "- Задание 3:\n"
   ]
  },
  {
   "cell_type": "markdown",
   "metadata": {
    "id": "HfOQo_qkfmYC"
   },
   "source": [
    "Пусть брошены 3 уравновешенные монеты.\n",
    "\n",
    "Рассмотрим 3 события:\n",
    "\n",
    "A1 - монеты 1 и 2 упали одной и той же стороной;\n",
    "\n",
    "A2 - монеты 2 и 3 упали одной и той же стороной;\n",
    "\n",
    "A3 - монеты 1 и 3 упали одной и той же стороной.\n",
    "\n",
    "Покажите, почему эти 3 события (A1, A2, A3) являются попарно независимыми, но не являются независимыми в совокупности."
   ]
  },
  {
   "cell_type": "markdown",
   "metadata": {},
   "source": [
    "Вероятность в попарных вариантах будет равна 1/4, а всех трех 1/8.  \n",
    "Если рассматривать все 3 события сразу, то зная исход первых двух, мы можем сказать об исзоде 3-его, а это протеворечит определению независимости\n",
    "\n"
   ]
  },
  {
   "cell_type": "markdown",
   "metadata": {
    "id": "S29TzpYSfmaC"
   },
   "source": [
    "- Задание 4 (формула полной вероятности):\n"
   ]
  },
  {
   "cell_type": "markdown",
   "metadata": {
    "id": "tDprfzp-fmcP"
   },
   "source": [
    "В магазин привезли устройства с 3-х разных предприятий. \n",
    "\n",
    "Соотношение устройств следующее: 20% - продукция первого предприятия, 30% - продукция второго предприятия, 50% - продукция третьего предприятия; далее, 10% продукции первого предприятия высшего сорта, на втором предприятии - 5% и на третьем - 20% продукции высшего сорта. \n",
    "\n",
    "Найти вероятность того, что случайно купленная новая продукция окажется высшего сорта."
   ]
  },
  {
   "cell_type": "code",
   "execution_count": 8,
   "metadata": {},
   "outputs": [
    {
     "data": {
      "text/plain": [
       "0.135"
      ]
     },
     "execution_count": 8,
     "metadata": {},
     "output_type": "execute_result"
    }
   ],
   "source": [
    "# 0.1*0.2 вероятность купить продукцию высшего сорта при условии, что купили продукцию 1 фабрики\n",
    "# 0.05*0.3 вероятность купить продукцию высшего сорта при условии, что купили продукцию 2 фабрики\n",
    "# 0.2*0.5 вероятность купить продукцию высшего сорта при условии, что купили продукцию 3 фабрики\n",
    "0.1*0.2+0.05*0.3+0.2*0.5"
   ]
  },
  {
   "cell_type": "code",
   "execution_count": null,
   "metadata": {},
   "outputs": [],
   "source": []
  }
 ],
 "metadata": {
  "colab": {
   "name": "HW_7",
   "provenance": []
  },
  "kernelspec": {
   "display_name": "Python 3",
   "language": "python",
   "name": "python3"
  },
  "language_info": {
   "codemirror_mode": {
    "name": "ipython",
    "version": 3
   },
   "file_extension": ".py",
   "mimetype": "text/x-python",
   "name": "python",
   "nbconvert_exporter": "python",
   "pygments_lexer": "ipython3",
   "version": "3.8.4rc1"
  }
 },
 "nbformat": 4,
 "nbformat_minor": 1
}
